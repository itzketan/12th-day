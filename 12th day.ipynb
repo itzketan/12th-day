{
 "cells": [
  {
   "cell_type": "code",
   "execution_count": 114,
   "metadata": {},
   "outputs": [],
   "source": [
    "file1 = open(r\"C:\\KETAN GURAV\\Python\\30days30hourOperations.txt\",\"w+\")\n"
   ]
  },
  {
   "cell_type": "code",
   "execution_count": 115,
   "metadata": {},
   "outputs": [
    {
     "name": "stdout",
     "output_type": "stream",
     "text": [
      "I have completed 10 days successfully \n",
      "\n"
     ]
    }
   ],
   "source": [
    "file1 = open(\"30days30hourOperations.txt\",\"w+\")\n",
    "file1.write(\"I have completed 10 days successfully \\n\")\n",
    "file1.close()\n",
    "file1 = open(\"30days30hourOperations.txt\",\"r+\")\n",
    "print(file1.read())"
   ]
  },
  {
   "cell_type": "code",
   "execution_count": 116,
   "metadata": {},
   "outputs": [
    {
     "name": "stdout",
     "output_type": "stream",
     "text": [
      "I have completed 10 days successfully \n",
      "Ketan Gurav \n",
      "\n"
     ]
    }
   ],
   "source": [
    "file1 = open(\"30days30hourOperations.txt\",\"a+\")\n",
    "file1.write(\"Ketan Gurav \\n\")\n",
    "file1.close()\n",
    "file1 = open(\"30days30hourOperations.txt\",\"r+\")\n",
    "print(file1.read())"
   ]
  },
  {
   "cell_type": "code",
   "execution_count": null,
   "metadata": {},
   "outputs": [],
   "source": []
  },
  {
   "cell_type": "code",
   "execution_count": null,
   "metadata": {},
   "outputs": [],
   "source": []
  }
 ],
 "metadata": {
  "kernelspec": {
   "display_name": "Python 3",
   "language": "python",
   "name": "python3"
  },
  "language_info": {
   "codemirror_mode": {
    "name": "ipython",
    "version": 3
   },
   "file_extension": ".py",
   "mimetype": "text/x-python",
   "name": "python",
   "nbconvert_exporter": "python",
   "pygments_lexer": "ipython3",
   "version": "3.8.5"
  }
 },
 "nbformat": 4,
 "nbformat_minor": 4
}
